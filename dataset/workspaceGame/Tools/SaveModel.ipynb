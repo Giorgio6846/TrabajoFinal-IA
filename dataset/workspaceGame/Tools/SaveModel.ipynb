{
 "cells": [
  {
   "cell_type": "code",
   "execution_count": 13,
   "metadata": {},
   "outputs": [],
   "source": [
    "import sys\n",
    "import os\n",
    "\n",
    "sys.path.append(os.path.abspath(\"../\"))\n",
    "\n",
    "from lib.Model.Tools import ModelDQN\n",
    "from lib.Game.Environment import BJEnvironment"
   ]
  },
  {
   "cell_type": "code",
   "execution_count": 14,
   "metadata": {},
   "outputs": [
    {
     "name": "stdout",
     "output_type": "stream",
     "text": [
      "Model: \"sequential_3\"\n",
      "_________________________________________________________________\n",
      " Layer (type)                Output Shape              Param #   \n",
      "=================================================================\n",
      " dense_6 (Dense)             (None, 256)               1792      \n",
      "                                                                 \n",
      " dense_7 (Dense)             (None, 3)                 771       \n",
      "                                                                 \n",
      "=================================================================\n",
      "Total params: 2563 (10.01 KB)\n",
      "Trainable params: 2563 (10.01 KB)\n",
      "Non-trainable params: 0 (0.00 Byte)\n",
      "_________________________________________________________________\n"
     ]
    }
   ],
   "source": [
    "env = BJEnvironment()\n",
    "ModelClass = ModelDQN(env.state_size, env.action_size, 0.1)"
   ]
  },
  {
   "cell_type": "code",
   "execution_count": 16,
   "metadata": {},
   "outputs": [],
   "source": [
    "VERSION = 12\n",
    "COMPLETEDVERSION = 1\n",
    "EPOCH = 10\n",
    "\n",
    "#latestCheckpoint = ModelClass.getCheckpointLatestVersion(VERSION, COMPLETEDVERSION)\n",
    "#ModelClass.loadCheckpoint(VERSION, COMPLETEDVERSION, latestCheckpoint - 1)\n",
    "ModelClass.loadCheckpoint(VERSION, COMPLETEDVERSION, EPOCH)\n",
    "ModelClass.saveModel(VERSION, 2)"
   ]
  }
 ],
 "metadata": {
  "kernelspec": {
   "display_name": "ML",
   "language": "python",
   "name": "python3"
  },
  "language_info": {
   "codemirror_mode": {
    "name": "ipython",
    "version": 3
   },
   "file_extension": ".py",
   "mimetype": "text/x-python",
   "name": "python",
   "nbconvert_exporter": "python",
   "pygments_lexer": "ipython3",
   "version": "3.11.9"
  }
 },
 "nbformat": 4,
 "nbformat_minor": 2
}
