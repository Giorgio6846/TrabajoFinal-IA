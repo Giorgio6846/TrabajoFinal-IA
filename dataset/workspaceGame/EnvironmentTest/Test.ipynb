{
 "cells": [
  {
   "cell_type": "code",
   "execution_count": null,
   "metadata": {},
   "outputs": [],
   "source": [
    "import sys\n",
    "import os\n",
    "\n",
    "sys.path.append(os.path.abspath(os.path.join(os.path.dirname(__file__), \"..\")))\n",
    "\n",
    "from lib.Game.Environment import BJEnvironment\n",
    "\n",
    "env = BJEnvironment()"
   ]
  },
  {
   "cell_type": "code",
   "execution_count": null,
   "metadata": {},
   "outputs": [],
   "source": [
    "def print_obs(obs):\n",
    "    print(\"Cartas Jugador\", obs[0][0])\n",
    "    print(\"Cartas Dealer\", obs[0][1])\n",
    "    print(\"Un usuario tiene ace\", bool(obs[0][2]))\n",
    "    print(\"El jugador tiene split\", bool(obs[0][3]))\n",
    "    print(\"El jugador tiene double\", bool(obs[0][4]))\n",
    "    print(f\"El jugador le falta {obs[0][5]*10}% de bolar en 21\")\n",
    "    print(\"Estado de juego\", obs[0][6])"
   ]
  },
  {
   "cell_type": "code",
   "execution_count": null,
   "metadata": {},
   "outputs": [],
   "source": [
    "count = 1\n",
    "while True:\n",
    "    print(count)\n",
    "    done = False\n",
    "    env.reset(5)\n",
    "    while not done:\n",
    "\n",
    "        obs = env.get_obs()\n",
    "        print_obs(obs)\n",
    "\n",
    "        action = int(input(\"Ingrese su accion: 1:Hit, 2:Stand, 3:Double, 4:Split:\"))\n",
    "        action = action - 1\n",
    "        state, action, reward, next_state, done = env.step(action)\n",
    "\n",
    "        if done == 1:\n",
    "            print_obs(next_state)\n",
    "            if reward > 0:\n",
    "                print(\"Gano\")\n",
    "            if reward == 0:\n",
    "                print(\"Empato\")\n",
    "            if reward < 0:\n",
    "                print(\"Perdio\")\n",
    "    count = count + 1"
   ]
  }
 ],
 "metadata": {
  "kernelspec": {
   "display_name": "ML",
   "language": "python",
   "name": "python3"
  },
  "language_info": {
   "codemirror_mode": {
    "name": "ipython",
    "version": 3
   },
   "file_extension": ".py",
   "mimetype": "text/x-python",
   "name": "python",
   "nbconvert_exporter": "python",
   "pygments_lexer": "ipython3",
   "version": "3.11.9"
  }
 },
 "nbformat": 4,
 "nbformat_minor": 2
}
